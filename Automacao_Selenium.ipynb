{
 "cells": [
  {
   "cell_type": "code",
   "execution_count": null,
   "id": "51758e32",
   "metadata": {
    "scrolled": false
   },
   "outputs": [],
   "source": [
    "# Instalando e Importando Biblioteca\n",
    "!pip install selenium\n",
    "from selenium import webdriver #cria nevegador\n",
    "from selenium.webdriver.common.by import By # Localiza elementos\n",
    "from selenium.webdriver.common.keys import Keys #Permite usar teclas no teclado"
   ]
  },
  {
   "cell_type": "code",
   "execution_count": null,
   "id": "97e3252b",
   "metadata": {},
   "outputs": [],
   "source": [
    "navegador = webdriver.Chrome()\n",
    "#Passo 1 - Entrar no google\n",
    "navegador.get(\"https://www.google.com.br/?gws_rd=cr&ei=xgWiWID3EMWnwATcjLDQCQ\")\n",
    "\n",
    "#Passo 2 - Pesquisaracotação do dólar\n",
    "#navegador.find_element(By.XPATH, '<input id=\"input\" type=\"search\" autocomplete=\"off\" spellcheck=\"false\" role=\"combobox\" placeholder=\"Pesquise no Google ou escreva um URL\" aria-live=\"polite\">').send_keys(\"Cotação dólar\")\n",
    "\n",
    "#Passo 3 - Pegar a cotação do dolar\n",
    "\n",
    "#Passo 4 - Pegar a cotação do euro\n",
    "\n",
    "#Passo 5 - Pegar a cotação do ouro\n",
    "\n",
    "#Passo 6 - Atualizar a base de dados com as novas cotações"
   ]
  },
  {
   "cell_type": "code",
   "execution_count": null,
   "id": "b72ba6d9",
   "metadata": {},
   "outputs": [],
   "source": []
  }
 ],
 "metadata": {
  "kernelspec": {
   "display_name": "Python 3 (ipykernel)",
   "language": "python",
   "name": "python3"
  },
  "language_info": {
   "codemirror_mode": {
    "name": "ipython",
    "version": 3
   },
   "file_extension": ".py",
   "mimetype": "text/x-python",
   "name": "python",
   "nbconvert_exporter": "python",
   "pygments_lexer": "ipython3",
   "version": "3.9.7"
  }
 },
 "nbformat": 4,
 "nbformat_minor": 5
}