{
 "cells": [
  {
   "cell_type": "code",
   "execution_count": 29,
   "id": "51758e32",
   "metadata": {
    "scrolled": false
   },
   "outputs": [],
   "source": [
    "#Instalando e Importando Biblioteca\n",
    "#!pip install selenium\n",
    "from selenium import webdriver #cria nevegador\n",
    "from selenium.webdriver.common.by import By # Localiza elementos\n",
    "from selenium.webdriver.common.keys import Keys #Permite usar teclas no teclado\n",
    "import pandas as pd"
   ]
  },
  {
   "cell_type": "code",
   "execution_count": 33,
   "id": "97e3252b",
   "metadata": {},
   "outputs": [
    {
     "name": "stdout",
     "output_type": "stream",
     "text": [
      "5.134799999999999\n",
      "5.329742682\n",
      "300,03\n"
     ]
    },
    {
     "data": {
      "text/plain": [
       "<bound method NDFrame.head of          Produtos  Preço Original  Moeda  Cotação  Preço de Compra  Margem  \\\n",
       "0    Câmera Canon          999.99  Dólar        5          4999.95    1.40   \n",
       "1   Carro Renault         4500.00   Euro        6         27000.00    2.00   \n",
       "2   Notebook Dell          899.99  Dólar        5          4499.95    1.70   \n",
       "3          IPhone          799.00  Dólar        5          3995.00    1.70   \n",
       "4      Carro Fiat         3000.00   Euro        6         18000.00    1.90   \n",
       "5  Celular Xiaomi          480.48  Dólar        5          2402.40    2.00   \n",
       "6        Joia 20g           20.00   Ouro      350          7000.00    1.15   \n",
       "\n",
       "   Preço de Venda  \n",
       "0        6999.930  \n",
       "1       54000.000  \n",
       "2        7649.915  \n",
       "3        6791.500  \n",
       "4       34200.000  \n",
       "5        4804.800  \n",
       "6        8050.000  >"
      ]
     },
     "execution_count": 33,
     "metadata": {},
     "output_type": "execute_result"
    }
   ],
   "source": [
    "navegador = webdriver.Chrome()\n",
    "#Passo 1 - Entrar no google\n",
    "navegador.get(\"https://www.google.com.br/?gws_rd=cr&ei=xgWiWID3EMWnwATcjLDQCQ\")\n",
    "\n",
    "#Passo 2 - Pesquisaracotação do dólar\n",
    "navegador.find_element(By.XPATH, \n",
    "                       '/html/body/div[1]/div[3]/form/div[1]/div[1]/div[1]/div/div[2]/input').send_keys(\"Cotação dólar\", Keys.ENTER)\n",
    "\n",
    "#Passo 3 - Pegar a cotação do dolar\n",
    "cotacao_dolar = navegador.find_element(By.XPATH,\n",
    "                      '//*[@id=\"knowledge-currency__updatable-data-column\"]/div[1]/div[2]/span[1]').get_attribute('data-value')\n",
    "print(cotacao_dolar)\n",
    "\n",
    "#Passo 4 - Pegar a cotação do euro\n",
    "navegador.get(\"https://www.google.com.br/?gws_rd=cr&ei=xgWiWID3EMWnwATcjLDQCQ\")\n",
    "\n",
    "navegador.find_element(By.XPATH, \n",
    "                       '/html/body/div[1]/div[3]/form/div[1]/div[1]/div[1]/div/div[2]/input').send_keys(\"Cotação euro\", Keys.ENTER)\n",
    "\n",
    "cotacao_euro = navegador.find_element(By.XPATH,\n",
    "                      '//*[@id=\"knowledge-currency__updatable-data-column\"]/div[1]/div[2]/span[1]').get_attribute('data-value')\n",
    "print(cotacao_euro)\n",
    "                       \n",
    "#Passo 5 - Pegar a cotação do ouro\n",
    "navegador.get(\"https://www.melhorcambio.com/ouro-hoje\")\n",
    "cotacao_ouro = navegador.find_element(By.XPATH,\n",
    "                      '//*[@id=\"comercial\"]').get_attribute('value')\n",
    "print(cotacao_ouro)\n",
    "\n",
    "\n",
    "# Passo 6: Recalcular o preço de cada produto\n",
    "# atualizar a cotação\n",
    "# nas linhas onde na coluna \"Moeda\" = Dólar\n",
    "tabela.loc[tabela[\"Moeda\"] == \"Dólar\", \"Cotação\"] = float(cotacao_dolar)\n",
    "tabela.loc[tabela[\"Moeda\"] == \"Euro\", \"Cotação\"] = float(cotacao_euro)\n",
    "tabela.loc[tabela[\"Moeda\"] == \"Ouro\", \"Cotação\"] = float(cotacao_ouro)\n",
    "\n",
    "# atualizar o preço base reais (preço base original * cotação)\n",
    "tabela[\"Preço de Compra\"] = tabela[\"Preço Original\"] * tabela[\"Cotação\"]\n",
    "\n",
    "# atualizar o preço final (preço base reais * Margem)\n",
    "tabela[\"Preço de Venda\"] = tabela[\"Preço de Compra\"] * tabela[\"Margem\"]\n",
    "\n",
    "display(tabela)\n",
    "\n",
    "# Passo 7: Salvar os novos preços dos produtos\n",
    "tabela.to_excel(\"Produtos Novo.xlsx\", index=False)\n",
    "navegador.quit()\n"
   ]
  }
 ],
 "metadata": {
  "kernelspec": {
   "display_name": "Python 3 (ipykernel)",
   "language": "python",
   "name": "python3"
  },
  "language_info": {
   "codemirror_mode": {
    "name": "ipython",
    "version": 3
   },
   "file_extension": ".py",
   "mimetype": "text/x-python",
   "name": "python",
   "nbconvert_exporter": "python",
   "pygments_lexer": "ipython3",
   "version": "3.9.7"
  }
 },
 "nbformat": 4,
 "nbformat_minor": 5
}